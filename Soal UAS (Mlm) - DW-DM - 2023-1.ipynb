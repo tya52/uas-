{
 "cells": [
  {
   "cell_type": "markdown",
   "id": "39e64349",
   "metadata": {},
   "source": [
    "# <center>UAS (Malam) : Data Warehouse dan Data Mining</center>\n",
    "\n",
    "- NIM : ...\n",
    "- Nama : ..."
   ]
  },
  {
   "cell_type": "markdown",
   "id": "93d84728",
   "metadata": {},
   "source": [
    "---"
   ]
  },
  {
   "cell_type": "markdown",
   "id": "d8297ab7",
   "metadata": {},
   "source": [
    "# <u>Soal :</u>\n",
    "## <font color=red>Berikut Program membangun model regresi (prediksi pembayaran premi asuransi), koreksi dan lengkapi jika ada yang perlu diperbaiki, simpan hasil/model-nya dan gunakan untuk membangun aplikasi web  dengan Streamlit, upload ke server streamlit !</font>"
   ]
  },
  {
   "cell_type": "markdown",
   "id": "4f6b4462",
   "metadata": {},
   "source": [
    "---"
   ]
  },
  {
   "cell_type": "code",
   "execution_count": null,
   "id": "c89e29e5",
   "metadata": {
    "execution": {
     "iopub.execute_input": "2021-08-16T11:08:34.541163Z",
     "iopub.status.busy": "2021-08-16T11:08:34.540289Z",
     "iopub.status.idle": "2021-08-16T11:08:35.520723Z",
     "shell.execute_reply": "2021-08-16T11:08:35.519833Z",
     "shell.execute_reply.started": "2021-08-16T11:07:29.873925Z"
    },
    "papermill": {
     "duration": 1.020135,
     "end_time": "2021-08-16T11:08:35.520911",
     "exception": false,
     "start_time": "2021-08-16T11:08:34.500776",
     "status": "completed"
    },
    "tags": []
   },
   "outputs": [],
   "source": [
    "import numpy as np\n",
    "import pandas as pd\n",
    "# import seaborn as sns\n",
    "# import matplotlib.pyplot as plt"
   ]
  },
  {
   "cell_type": "markdown",
   "id": "9a5ebfd6",
   "metadata": {
    "papermill": {
     "duration": 0.040594,
     "end_time": "2021-08-16T11:08:35.598908",
     "exception": false,
     "start_time": "2021-08-16T11:08:35.558314",
     "status": "completed"
    },
    "tags": []
   },
   "source": [
    "### Loading Dataset"
   ]
  },
  {
   "cell_type": "code",
   "execution_count": null,
   "id": "25b4c8c2",
   "metadata": {
    "execution": {
     "iopub.execute_input": "2021-08-16T11:08:35.667419Z",
     "iopub.status.busy": "2021-08-16T11:08:35.666329Z",
     "iopub.status.idle": "2021-08-16T11:08:35.678479Z",
     "shell.execute_reply": "2021-08-16T11:08:35.677858Z",
     "shell.execute_reply.started": "2021-08-16T11:07:29.883395Z"
    },
    "papermill": {
     "duration": 0.04406,
     "end_time": "2021-08-16T11:08:35.678628",
     "exception": false,
     "start_time": "2021-08-16T11:08:35.634568",
     "status": "completed"
    },
    "tags": []
   },
   "outputs": [],
   "source": [
    "df = pd.read_csv('insurance1.csv')\n",
    "df.head()"
   ]
  },
  {
   "cell_type": "code",
   "execution_count": null,
   "id": "c9942d3e",
   "metadata": {
    "execution": {
     "iopub.execute_input": "2021-08-16T11:08:35.886022Z",
     "iopub.status.busy": "2021-08-16T11:08:35.884843Z",
     "iopub.status.idle": "2021-08-16T11:08:35.909619Z",
     "shell.execute_reply": "2021-08-16T11:08:35.909076Z",
     "shell.execute_reply.started": "2021-08-16T11:07:29.948573Z"
    },
    "papermill": {
     "duration": 0.053971,
     "end_time": "2021-08-16T11:08:35.909771",
     "exception": false,
     "start_time": "2021-08-16T11:08:35.855800",
     "status": "completed"
    },
    "tags": []
   },
   "outputs": [],
   "source": [
    "df.info()"
   ]
  },
  {
   "cell_type": "code",
   "execution_count": null,
   "id": "0fbc1610",
   "metadata": {
    "execution": {
     "iopub.execute_input": "2021-08-16T11:08:35.972740Z",
     "iopub.status.busy": "2021-08-16T11:08:35.971681Z",
     "iopub.status.idle": "2021-08-16T11:08:36.001255Z",
     "shell.execute_reply": "2021-08-16T11:08:36.001977Z",
     "shell.execute_reply.started": "2021-08-16T11:07:29.971333Z"
    },
    "papermill": {
     "duration": 0.06573,
     "end_time": "2021-08-16T11:08:36.002298",
     "exception": false,
     "start_time": "2021-08-16T11:08:35.936568",
     "status": "completed"
    },
    "tags": []
   },
   "outputs": [],
   "source": [
    "df.describe()"
   ]
  },
  {
   "cell_type": "code",
   "execution_count": null,
   "id": "e236d13c",
   "metadata": {
    "execution": {
     "iopub.execute_input": "2021-08-16T11:08:36.070730Z",
     "iopub.status.busy": "2021-08-16T11:08:36.069807Z",
     "iopub.status.idle": "2021-08-16T11:08:36.074239Z",
     "shell.execute_reply": "2021-08-16T11:08:36.074698Z",
     "shell.execute_reply.started": "2021-08-16T11:07:30.010418Z"
    },
    "papermill": {
     "duration": 0.040857,
     "end_time": "2021-08-16T11:08:36.074877",
     "exception": false,
     "start_time": "2021-08-16T11:08:36.034020",
     "status": "completed"
    },
    "tags": []
   },
   "outputs": [],
   "source": [
    "df.isna().sum()"
   ]
  },
  {
   "cell_type": "markdown",
   "id": "b7b9f89c",
   "metadata": {},
   "source": [
    "### Data Preparation - Mengubah data categorical ke numeric\n",
    "Perbaiki jika ada ERROR"
   ]
  },
  {
   "cell_type": "code",
   "execution_count": null,
   "id": "50e1a0fd",
   "metadata": {
    "execution": {
     "iopub.execute_input": "2021-08-16T11:08:36.191843Z",
     "iopub.status.busy": "2021-08-16T11:08:36.191211Z",
     "iopub.status.idle": "2021-08-16T11:08:36.321684Z",
     "shell.execute_reply": "2021-08-16T11:08:36.320977Z",
     "shell.execute_reply.started": "2021-08-16T11:07:30.021843Z"
    },
    "papermill": {
     "duration": 0.165585,
     "end_time": "2021-08-16T11:08:36.321834",
     "exception": false,
     "start_time": "2021-08-16T11:08:36.156249",
     "status": "completed"
    },
    "tags": []
   },
   "outputs": [],
   "source": [
    "from sklearn.preprocessing import OrdinalEncoder\n",
    "oe=OrdinalEncoder()\n",
    "# df[['sex','smoker','region']]=oe.fit_transform(df[['sex','smoker','region']])\n",
    "df[['sex','smoker']]=oe.fit_transform(df[['sex','smoker']])"
   ]
  },
  {
   "cell_type": "code",
   "execution_count": null,
   "id": "ef3cbaff",
   "metadata": {
    "execution": {
     "iopub.execute_input": "2021-08-16T11:08:36.385381Z",
     "iopub.status.busy": "2021-08-16T11:08:36.384723Z",
     "iopub.status.idle": "2021-08-16T11:08:36.388198Z",
     "shell.execute_reply": "2021-08-16T11:08:36.387614Z",
     "shell.execute_reply.started": "2021-08-16T11:07:30.175071Z"
    },
    "papermill": {
     "duration": 0.039618,
     "end_time": "2021-08-16T11:08:36.388340",
     "exception": false,
     "start_time": "2021-08-16T11:08:36.348722",
     "status": "completed"
    },
    "tags": []
   },
   "outputs": [],
   "source": [
    "# df[['sex','smoker','region']]=df[['sex','smoker','region']].astype(int)\n",
    "df[['sex','smoker']]=df[['sex','smoker']].astype(int)"
   ]
  },
  {
   "cell_type": "code",
   "execution_count": null,
   "id": "9cf2b853",
   "metadata": {
    "execution": {
     "iopub.execute_input": "2021-08-16T11:08:36.457523Z",
     "iopub.status.busy": "2021-08-16T11:08:36.455951Z",
     "iopub.status.idle": "2021-08-16T11:08:36.459749Z",
     "shell.execute_reply": "2021-08-16T11:08:36.460265Z",
     "shell.execute_reply.started": "2021-08-16T11:07:30.184889Z"
    },
    "papermill": {
     "duration": 0.044342,
     "end_time": "2021-08-16T11:08:36.460463",
     "exception": false,
     "start_time": "2021-08-16T11:08:36.416121",
     "status": "completed"
    },
    "tags": []
   },
   "outputs": [],
   "source": [
    "df.head()"
   ]
  },
  {
   "cell_type": "code",
   "execution_count": null,
   "id": "ed5a38e6",
   "metadata": {
    "execution": {
     "iopub.execute_input": "2021-08-16T11:08:36.523744Z",
     "iopub.status.busy": "2021-08-16T11:08:36.523060Z",
     "iopub.status.idle": "2021-08-16T11:08:36.527345Z",
     "shell.execute_reply": "2021-08-16T11:08:36.526770Z",
     "shell.execute_reply.started": "2021-08-16T11:07:30.205757Z"
    },
    "papermill": {
     "duration": 0.038102,
     "end_time": "2021-08-16T11:08:36.527501",
     "exception": false,
     "start_time": "2021-08-16T11:08:36.489399",
     "status": "completed"
    },
    "tags": []
   },
   "outputs": [],
   "source": [
    "df.columns"
   ]
  },
  {
   "cell_type": "markdown",
   "id": "047238b9",
   "metadata": {
    "papermill": {
     "duration": 0.043948,
     "end_time": "2021-08-16T11:08:50.888055",
     "exception": false,
     "start_time": "2021-08-16T11:08:50.844107",
     "status": "completed"
    },
    "tags": []
   },
   "source": [
    "### Memisah Feature dan Label"
   ]
  },
  {
   "cell_type": "code",
   "execution_count": null,
   "id": "a713092d",
   "metadata": {
    "execution": {
     "iopub.execute_input": "2021-08-16T11:08:50.982142Z",
     "iopub.status.busy": "2021-08-16T11:08:50.981434Z",
     "iopub.status.idle": "2021-08-16T11:08:50.984915Z",
     "shell.execute_reply": "2021-08-16T11:08:50.984422Z",
     "shell.execute_reply.started": "2021-08-16T11:07:43.122306Z"
    },
    "papermill": {
     "duration": 0.053915,
     "end_time": "2021-08-16T11:08:50.985104",
     "exception": false,
     "start_time": "2021-08-16T11:08:50.931189",
     "status": "completed"
    },
    "tags": []
   },
   "outputs": [],
   "source": [
    "target=df['charges']\n",
    "features=df.drop(columns=['charges'])"
   ]
  },
  {
   "cell_type": "code",
   "execution_count": null,
   "id": "7cb18038",
   "metadata": {
    "execution": {
     "iopub.execute_input": "2021-08-16T11:08:51.080285Z",
     "iopub.status.busy": "2021-08-16T11:08:51.079553Z",
     "iopub.status.idle": "2021-08-16T11:08:51.086342Z",
     "shell.execute_reply": "2021-08-16T11:08:51.085443Z",
     "shell.execute_reply.started": "2021-08-16T11:07:43.128164Z"
    },
    "papermill": {
     "duration": 0.058302,
     "end_time": "2021-08-16T11:08:51.086514",
     "exception": false,
     "start_time": "2021-08-16T11:08:51.028212",
     "status": "completed"
    },
    "tags": []
   },
   "outputs": [],
   "source": [
    "#Standardization\n",
    "from sklearn.preprocessing import StandardScaler\n",
    "sc=StandardScaler()\n",
    "features=sc.fit_transform(features)"
   ]
  },
  {
   "cell_type": "code",
   "execution_count": null,
   "id": "7370fef3",
   "metadata": {
    "execution": {
     "iopub.execute_input": "2021-08-16T11:08:51.188536Z",
     "iopub.status.busy": "2021-08-16T11:08:51.187540Z",
     "iopub.status.idle": "2021-08-16T11:08:51.192222Z",
     "shell.execute_reply": "2021-08-16T11:08:51.191557Z",
     "shell.execute_reply.started": "2021-08-16T11:07:43.149451Z"
    },
    "papermill": {
     "duration": 0.061061,
     "end_time": "2021-08-16T11:08:51.192379",
     "exception": false,
     "start_time": "2021-08-16T11:08:51.131318",
     "status": "completed"
    },
    "tags": []
   },
   "outputs": [],
   "source": [
    "pd.DataFrame(features[:5])"
   ]
  },
  {
   "cell_type": "markdown",
   "id": "c1d9d7ca",
   "metadata": {
    "papermill": {
     "duration": 0.044206,
     "end_time": "2021-08-16T11:08:51.281618",
     "exception": false,
     "start_time": "2021-08-16T11:08:51.237412",
     "status": "completed"
    },
    "tags": []
   },
   "source": [
    "### Membangun Model"
   ]
  },
  {
   "cell_type": "code",
   "execution_count": null,
   "id": "b68f65a3",
   "metadata": {
    "execution": {
     "iopub.execute_input": "2021-08-16T11:08:51.375924Z",
     "iopub.status.busy": "2021-08-16T11:08:51.374934Z",
     "iopub.status.idle": "2021-08-16T11:08:51.522644Z",
     "shell.execute_reply": "2021-08-16T11:08:51.521875Z",
     "shell.execute_reply.started": "2021-08-16T11:07:43.167949Z"
    },
    "papermill": {
     "duration": 0.19556,
     "end_time": "2021-08-16T11:08:51.522815",
     "exception": false,
     "start_time": "2021-08-16T11:08:51.327255",
     "status": "completed"
    },
    "tags": []
   },
   "outputs": [],
   "source": [
    "from sklearn.model_selection import train_test_split\n",
    "from sklearn.linear_model import LinearRegression"
   ]
  },
  {
   "cell_type": "code",
   "execution_count": null,
   "id": "5e7a7537",
   "metadata": {
    "execution": {
     "iopub.execute_input": "2021-08-16T11:08:51.619906Z",
     "iopub.status.busy": "2021-08-16T11:08:51.618915Z",
     "iopub.status.idle": "2021-08-16T11:08:51.622102Z",
     "shell.execute_reply": "2021-08-16T11:08:51.621524Z",
     "shell.execute_reply.started": "2021-08-16T11:07:43.513250Z"
    },
    "papermill": {
     "duration": 0.055111,
     "end_time": "2021-08-16T11:08:51.622257",
     "exception": false,
     "start_time": "2021-08-16T11:08:51.567146",
     "status": "completed"
    },
    "tags": []
   },
   "outputs": [],
   "source": [
    "x_train,x_test,y_train,y_test=train_test_split(features,target,shuffle=True,train_size=0.8,random_state=1)"
   ]
  },
  {
   "cell_type": "code",
   "execution_count": null,
   "id": "0051abed",
   "metadata": {
    "execution": {
     "iopub.execute_input": "2021-08-16T11:08:51.715758Z",
     "iopub.status.busy": "2021-08-16T11:08:51.714883Z",
     "iopub.status.idle": "2021-08-16T11:08:51.719198Z",
     "shell.execute_reply": "2021-08-16T11:08:51.719686Z",
     "shell.execute_reply.started": "2021-08-16T11:07:43.523022Z"
    },
    "papermill": {
     "duration": 0.05331,
     "end_time": "2021-08-16T11:08:51.719861",
     "exception": false,
     "start_time": "2021-08-16T11:08:51.666551",
     "status": "completed"
    },
    "tags": []
   },
   "outputs": [],
   "source": [
    "len(x_train)"
   ]
  },
  {
   "cell_type": "code",
   "execution_count": null,
   "id": "218f4d75",
   "metadata": {
    "execution": {
     "iopub.execute_input": "2021-08-16T11:08:51.814466Z",
     "iopub.status.busy": "2021-08-16T11:08:51.813796Z",
     "iopub.status.idle": "2021-08-16T11:08:51.817717Z",
     "shell.execute_reply": "2021-08-16T11:08:51.818208Z",
     "shell.execute_reply.started": "2021-08-16T11:07:43.535928Z"
    },
    "papermill": {
     "duration": 0.054298,
     "end_time": "2021-08-16T11:08:51.818404",
     "exception": false,
     "start_time": "2021-08-16T11:08:51.764106",
     "status": "completed"
    },
    "tags": []
   },
   "outputs": [],
   "source": [
    "len(x_test)"
   ]
  },
  {
   "cell_type": "code",
   "execution_count": null,
   "id": "71077bb4",
   "metadata": {
    "execution": {
     "iopub.execute_input": "2021-08-16T11:08:52.108424Z",
     "iopub.status.busy": "2021-08-16T11:08:52.046443Z",
     "iopub.status.idle": "2021-08-16T11:08:52.115186Z",
     "shell.execute_reply": "2021-08-16T11:08:52.114529Z",
     "shell.execute_reply.started": "2021-08-16T11:07:43.550267Z"
    },
    "papermill": {
     "duration": 0.252246,
     "end_time": "2021-08-16T11:08:52.115367",
     "exception": false,
     "start_time": "2021-08-16T11:08:51.863121",
     "status": "completed"
    },
    "tags": []
   },
   "outputs": [],
   "source": [
    "#Training\n",
    "model_uas=LinearRegression()\n",
    "model_uas.fit(x_train,y_train)"
   ]
  },
  {
   "cell_type": "markdown",
   "id": "b47f6640",
   "metadata": {},
   "source": [
    "### Evaluasi"
   ]
  },
  {
   "cell_type": "code",
   "execution_count": null,
   "id": "0747be95",
   "metadata": {
    "execution": {
     "iopub.execute_input": "2021-08-16T11:08:52.210668Z",
     "iopub.status.busy": "2021-08-16T11:08:52.210039Z",
     "iopub.status.idle": "2021-08-16T11:08:52.218839Z",
     "shell.execute_reply": "2021-08-16T11:08:52.218222Z",
     "shell.execute_reply.started": "2021-08-16T11:07:43.744728Z"
    },
    "papermill": {
     "duration": 0.058566,
     "end_time": "2021-08-16T11:08:52.218975",
     "exception": false,
     "start_time": "2021-08-16T11:08:52.160409",
     "status": "completed"
    },
    "tags": []
   },
   "outputs": [],
   "source": [
    "from sklearn.metrics import r2_score,mean_squared_error\n",
    "pred=model_uas.predict(x_test)\n",
    "print('r2 score :',r2_score(y_test,pred))\n",
    "print('MSE :',mean_squared_error(y_test,pred))"
   ]
  },
  {
   "cell_type": "code",
   "execution_count": null,
   "id": "193dbf46",
   "metadata": {
    "execution": {
     "iopub.execute_input": "2021-08-16T11:08:52.315712Z",
     "iopub.status.busy": "2021-08-16T11:08:52.315080Z",
     "iopub.status.idle": "2021-08-16T11:08:52.319889Z",
     "shell.execute_reply": "2021-08-16T11:08:52.320480Z",
     "shell.execute_reply.started": "2021-08-16T11:07:43.755425Z"
    },
    "papermill": {
     "duration": 0.057086,
     "end_time": "2021-08-16T11:08:52.320710",
     "exception": false,
     "start_time": "2021-08-16T11:08:52.263624",
     "status": "completed"
    },
    "tags": []
   },
   "outputs": [],
   "source": [
    "print(pred[:5])\n",
    "print(y_test[:5])"
   ]
  },
  {
   "cell_type": "markdown",
   "id": "673eb316",
   "metadata": {},
   "source": [
    "### Menyimpan Model untuk Deployment"
   ]
  },
  {
   "cell_type": "markdown",
   "id": "4458a393",
   "metadata": {},
   "source": [
    "Install pickle jika belum ada\n",
    "\n",
    "  !pip install pickle-mixin"
   ]
  },
  {
   "cell_type": "code",
   "execution_count": null,
   "id": "0e43ab5a",
   "metadata": {},
   "outputs": [],
   "source": [
    "import pickle\n",
    "\n",
    "pickle.dump(model_uas,open('model_uas.pkl','wb'))"
   ]
  },
  {
   "cell_type": "markdown",
   "id": "f9bc5314",
   "metadata": {},
   "source": [
    "Cek file model_uas.pkl, dan gunakan sebagai model saat membangun aplikasi web berbasis streamlit"
   ]
  },
  {
   "cell_type": "markdown",
   "id": "bcaed454",
   "metadata": {},
   "source": [
    "---\n",
    "### Clue \n",
    "Untuk membangun model ini ke aplikasi web streamlit :\n",
    "- Model terdiri dari 5 atribut input dan 1 output : \n",
    "\n",
    "  INPUT :\n",
    "  - 'age', umur\n",
    "  - 'sex',  jenis kelamin\n",
    "  - 'bmi',  berat\n",
    "  - 'children',  jumlah anak\n",
    "  - 'smoker',  perokok atau tidak\n",
    "  \n",
    "  OUTPUT\n",
    "  - charges, besar iuran asuransi per bulan\n",
    "  "
   ]
  },
  {
   "cell_type": "code",
   "execution_count": null,
   "id": "3fb2f2cb",
   "metadata": {},
   "outputs": [],
   "source": [
    "#Contoh penggunaan \n",
    "#Yang diinputkan\n",
    "age=27\n",
    "sex=1\n",
    "bmi=30\n",
    "children=5\n",
    "smoker=0\n",
    "\n",
    "#proses input - dijadikan array dan di reshape\n",
    "X=np.array([age,sex, bmi, children, smoker])\n",
    "X=X.reshape(1,-1)\n",
    "\n",
    "#load model tersimpan - pickle\n",
    "loaded_model = pickle.load(open('model_uas.pkl', 'rb'))\n",
    "\n",
    "#prediksi\n",
    "charger_pred=loaded_model.predict(X)"
   ]
  },
  {
   "cell_type": "code",
   "execution_count": null,
   "id": "3b220210",
   "metadata": {},
   "outputs": [],
   "source": [
    "#hasil setelah disubmit\n",
    "print(\"Prediksi Pembayaran premi : \",charger_pred)"
   ]
  },
  {
   "cell_type": "markdown",
   "id": "86cfe19b",
   "metadata": {},
   "source": [
    "---"
   ]
  }
 ],
 "metadata": {
  "kernelspec": {
   "display_name": "Python 3 (ipykernel)",
   "language": "python",
   "name": "python3"
  },
  "language_info": {
   "codemirror_mode": {
    "name": "ipython",
    "version": 3
   },
   "file_extension": ".py",
   "mimetype": "text/x-python",
   "name": "python",
   "nbconvert_exporter": "python",
   "pygments_lexer": "ipython3",
   "version": "3.9.15"
  },
  "papermill": {
   "default_parameters": {},
   "duration": 27.884539,
   "end_time": "2021-08-16T11:08:53.873893",
   "environment_variables": {},
   "exception": null,
   "input_path": "__notebook__.ipynb",
   "output_path": "__notebook__.ipynb",
   "parameters": {},
   "start_time": "2021-08-16T11:08:25.989354",
   "version": "2.3.3"
  }
 },
 "nbformat": 4,
 "nbformat_minor": 5
}
